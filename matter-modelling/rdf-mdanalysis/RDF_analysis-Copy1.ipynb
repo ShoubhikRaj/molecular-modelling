{
 "cells": [
  {
   "cell_type": "code",
   "execution_count": 1,
   "metadata": {},
   "outputs": [],
   "source": [
    "import MDAnalysis as mda\n",
    "from MDAnalysis.analysis import rdf\n",
    "import matplotlib.pyplot as plt\n",
    "import numpy as np"
   ]
  },
  {
   "cell_type": "code",
   "execution_count": 2,
   "metadata": {},
   "outputs": [],
   "source": [
    "u = mda.Universe(\"15_ws.psf\",\"100H2O_prelim.dcd\") #load files"
   ]
  },
  {
   "cell_type": "code",
   "execution_count": 3,
   "metadata": {},
   "outputs": [
    {
     "name": "stdout",
     "output_type": "stream",
     "text": [
      "<AtomGroup [<Atom 1: FLU of type FLU of resname FLU, resid 1 and segid X>, <Atom 2: OH2 of type OT of resname TIP4, resid 2 and segid WT1>, <Atom 3: H1 of type HT of resname TIP4, resid 2 and segid WT1>, ..., <Atom 399: H1 of type HT of resname TIP4, resid 227 and segid WT1>, <Atom 400: H2 of type HT of resname TIP4, resid 227 and segid WT1>, <Atom 401: OM of type LP of resname TIP4, resid 227 and segid WT1>]>\n"
     ]
    }
   ],
   "source": [
    "print(u.atoms)  #check"
   ]
  },
  {
   "cell_type": "code",
   "execution_count": 4,
   "metadata": {},
   "outputs": [
    {
     "data": {
      "text/plain": [
       "<Atom 1: FLU of type FLU of resname FLU, resid 1 and segid X>"
      ]
     },
     "execution_count": 4,
     "metadata": {},
     "output_type": "execute_result"
    }
   ],
   "source": [
    "u.atoms[0] #check"
   ]
  },
  {
   "cell_type": "code",
   "execution_count": 5,
   "metadata": {},
   "outputs": [
    {
     "data": {
      "text/plain": [
       "array([18.9984, 15.9994,  1.008 ,  1.008 ,  0.    , 15.9994,  1.008 ,\n",
       "        1.008 ,  0.    , 15.9994,  1.008 ,  1.008 ,  0.    , 15.9994,\n",
       "        1.008 ,  1.008 ,  0.    , 15.9994,  1.008 ,  1.008 ])"
      ]
     },
     "execution_count": 5,
     "metadata": {},
     "output_type": "execute_result"
    }
   ],
   "source": [
    "u.atoms.masses[:20] #check whether masses are obtained properly"
   ]
  },
  {
   "cell_type": "code",
   "execution_count": 6,
   "metadata": {
    "scrolled": true
   },
   "outputs": [
    {
     "data": {
      "text/plain": [
       "array([-0.25531903,  0.04690266, -0.06035197])"
      ]
     },
     "execution_count": 6,
     "metadata": {},
     "output_type": "execute_result"
    }
   ],
   "source": [
    "u.atoms.center_of_mass() # coordinates are in Angstrom"
   ]
  },
  {
   "cell_type": "code",
   "execution_count": 7,
   "metadata": {},
   "outputs": [
    {
     "name": "stdout",
     "output_type": "stream",
     "text": [
      "[ 1.1622225  0.3553278 -2.5632226]\n"
     ]
    }
   ],
   "source": [
    "flu = u.atoms[0]  #flu represents the fluoride in each frame\n",
    "print(flu.position)"
   ]
  },
  {
   "cell_type": "code",
   "execution_count": 8,
   "metadata": {},
   "outputs": [],
   "source": [
    "# frame_numbers = []\n",
    "distance_list = [] #create lists to hold the values of the distances\n",
    "# iterate through frames and get the distance between com and Ca2+ ion\n",
    "for frame in u.trajectory:\n",
    "    com_coord = u.atoms.center_of_mass() #cartesian coords of COM\n",
    "    dist = np.linalg.norm(flu.position - com_coord)\n",
    "    distance_list.append(dist)\n",
    "    # counter = frame.frame # returns the frame number i.e. 0,1,2,3 etc.\n",
    "    # frame_numbers.append(counter)"
   ]
  },
  {
   "cell_type": "code",
   "execution_count": 9,
   "metadata": {},
   "outputs": [],
   "source": [
    "counts, lengths = np.histogram(distance_list,bins=80,range=(0,10)) #create a histogram of the distances, from 0 Angs to 10\n",
    "# normalize the count by dividing by number of frames\n",
    "counts = counts/len(u.trajectory)\n",
    "# calculate the volume of each shell (determined by bin width)\n",
    "shell_volumes = (4/3) * np.pi * (lengths[1:]**3 - lengths[:-1]**3)\n",
    "# normalize the count by dividing each by shell volume (because the shell volume changes with radius)\n",
    "#counts = counts/shell_volumes  # -> Is this necessary? because there is only one fluoride"
   ]
  },
  {
   "cell_type": "code",
   "execution_count": 10,
   "metadata": {},
   "outputs": [
    {
     "data": {
      "image/png": "[encoded data removed]",
      "text/plain": [
       "<Figure size 432x288 with 1 Axes>"
      ]
     },
     "metadata": {
      "needs_background": "light"
     },
     "output_type": "display_data"
    }
   ],
   "source": [
    "plt.plot((lengths[:-1]+lengths[1:])/2,counts,'-o')\n",
    "plt.ylabel('Normalized g(r) of $\\mathrm{F^-}$ from the COM')\n",
    "plt.xlabel('r / $\\mathrm{\\AA}$')\n",
    "plt.show()"
   ]
  },
  {
   "cell_type": "code",
   "execution_count": 11,
   "metadata": {},
   "outputs": [
    {
     "data": {
      "text/plain": [
       "1.0"
      ]
     },
     "execution_count": 11,
     "metadata": {},
     "output_type": "execute_result"
    }
   ],
   "source": [
    "counts.sum()  #normalizing with shell volume makes sum != 1"
   ]
  },
  {
   "cell_type": "code",
   "execution_count": 12,
   "metadata": {},
   "outputs": [
    {
     "name": "stdout",
     "output_type": "stream",
     "text": [
      "<AtomGroup [<Atom 1: FLU of type FLU of resname FLU, resid 1 and segid X>, <Atom 2: OH2 of type OT of resname TIP4, resid 2 and segid WT1>, <Atom 3: H1 of type HT of resname TIP4, resid 2 and segid WT1>, ..., <Atom 399: H1 of type HT of resname TIP4, resid 227 and segid WT1>, <Atom 400: H2 of type HT of resname TIP4, resid 227 and segid WT1>, <Atom 401: OM of type LP of resname TIP4, resid 227 and segid WT1>]>\n"
     ]
    }
   ],
   "source": [
    "print(u.atoms)"
   ]
  },
  {
   "cell_type": "code",
   "execution_count": 13,
   "metadata": {},
   "outputs": [],
   "source": [
    "oxy = u.select_atoms('name OH2') # get oxygens\n",
    "hyd = u.select_atoms('type HT') # get hydrogens"
   ]
  },
  {
   "cell_type": "code",
   "execution_count": 14,
   "metadata": {},
   "outputs": [
    {
     "data": {
      "application/vnd.jupyter.widget-view+json": {
       "model_id": "4489b2a2bdb84f578901c0420fe05e01",
       "version_major": 2,
       "version_minor": 0
      },
      "text/plain": [
       "HBox(children=(FloatProgress(value=0.0, max=3001.0), HTML(value='')))"
      ]
     },
     "metadata": {},
     "output_type": "display_data"
    },
    {
     "name": "stdout",
     "output_type": "stream",
     "text": [
      "\n"
     ]
    },
    {
     "name": "stderr",
     "output_type": "stream",
     "text": [
      "c:\\program files\\python37\\lib\\site-packages\\MDAnalysis\\analysis\\rdf.py:302: RuntimeWarning: divide by zero encountered in double_scalars\n",
      "  density = N / box_vol\n"
     ]
    },
    {
     "data": {
      "text/plain": [
       "<MDAnalysis.analysis.rdf.InterRDF at 0x24eeeedc278>"
      ]
     },
     "execution_count": 14,
     "metadata": {},
     "output_type": "execute_result"
    }
   ],
   "source": [
    "O_O = rdf.InterRDF(oxy,oxy,verbose=True)\n",
    "O_O.run()"
   ]
  },
  {
   "cell_type": "code",
   "execution_count": 17,
   "metadata": {},
   "outputs": [
    {
     "data": {
      "text/plain": [
       "[<matplotlib.lines.Line2D at 0x24ef127d780>]"
      ]
     },
     "execution_count": 17,
     "metadata": {},
     "output_type": "execute_result"
    },
    {
     "data": {
      "image/png": "[encoded data removed]",
      "text/plain": [
       "<Figure size 432x288 with 1 Axes>"
      ]
     },
     "metadata": {
      "needs_background": "light"
     },
     "output_type": "display_data"
    }
   ],
   "source": [
    "plt.plot(O_O.bins,O_O.rdf)"
   ]
  },
  {
   "cell_type": "code",
   "execution_count": null,
   "metadata": {},
   "outputs": [],
   "source": []
  }
 ],
 "metadata": {
  "kernelspec": {
   "display_name": "Python 3",
   "language": "python",
   "name": "python3"
  },
  "language_info": {
   "codemirror_mode": {
    "name": "ipython",
    "version": 3
   },
   "file_extension": ".py",
   "mimetype": "text/x-python",
   "name": "python",
   "nbconvert_exporter": "python",
   "pygments_lexer": "ipython3",
   "version": "3.7.1"
  }
 },
 "nbformat": 4,
 "nbformat_minor": 4
}
